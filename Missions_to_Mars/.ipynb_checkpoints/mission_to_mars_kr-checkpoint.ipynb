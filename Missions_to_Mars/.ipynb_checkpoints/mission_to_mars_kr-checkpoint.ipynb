{
 "cells": [
  {
   "cell_type": "code",
   "execution_count": 1,
   "metadata": {},
   "outputs": [],
   "source": [
    "#install dependencies\n",
    "\n",
    "import pandas as pd\n",
    "from splinter import Browser\n",
    "from bs4 import BeautifulSoup as bs\n",
    "from pprint import pprint\n",
    "import requests\n",
    "import os"
   ]
  },
  {
   "cell_type": "code",
   "execution_count": 2,
   "metadata": {},
   "outputs": [],
   "source": [
    "\n",
    "# intializing the browser object\n",
    "executable_path = {'executable_path': 'chromedriver.exe'}\n",
    "browser = Browser('chrome', **executable_path, headless=False)"
   ]
  },
  {
   "cell_type": "code",
   "execution_count": 3,
   "metadata": {},
   "outputs": [],
   "source": [
    "## PART 1\n",
    "\n",
    "# set NASA url\n",
    "url = 'https://mars.nasa.gov/news/'\n",
    "browser.visit(url)"
   ]
  },
  {
   "cell_type": "code",
   "execution_count": 4,
   "metadata": {},
   "outputs": [],
   "source": [
    "# Beautiful Soup time!\n",
    "\n",
    "html = browser.html\n",
    "soup = bs(html, 'html.parser')\n",
    "\n",
    "#print(soup.prettify())"
   ]
  },
  {
   "cell_type": "code",
   "execution_count": 5,
   "metadata": {},
   "outputs": [
    {
     "name": "stdout",
     "output_type": "stream",
     "text": [
      "<div class=\"content_title\"><a href=\"/news/8765/ai-is-helping-scientists-discover-fresh-craters-on-mars/\" target=\"_self\">AI Is Helping Scientists Discover Fresh Craters on Mars</a></div>\n"
     ]
    },
    {
     "data": {
      "text/plain": [
       "<div class=\"article_teaser_body\">It's the first time machine learning has been used to find previously unknown craters on the Red Planet.</div>"
      ]
     },
     "execution_count": 5,
     "metadata": {},
     "output_type": "execute_result"
    }
   ],
   "source": [
    "# Finding the most recent title and pargraph\n",
    "news_title_div = soup.find('div', class_ = 'list_text').find('div', class_='content_title')\n",
    "print(news_title_div)\n",
    "\n",
    "new_parag_div = soup.find('div', class_= 'article_teaser_body')\n",
    "new_parag_div"
   ]
  },
  {
   "cell_type": "code",
   "execution_count": 6,
   "metadata": {},
   "outputs": [
    {
     "data": {
      "text/plain": [
       "'AI Is Helping Scientists Discover Fresh Craters on Mars'"
      ]
     },
     "execution_count": 6,
     "metadata": {},
     "output_type": "execute_result"
    }
   ],
   "source": [
    "# print news title to check\n",
    "news_title = news_title_div.get_text()\n",
    "news_title"
   ]
  },
  {
   "cell_type": "code",
   "execution_count": 7,
   "metadata": {},
   "outputs": [
    {
     "data": {
      "text/plain": [
       "\"It's the first time machine learning has been used to find previously unknown craters on the Red Planet.\""
      ]
     },
     "execution_count": 7,
     "metadata": {},
     "output_type": "execute_result"
    }
   ],
   "source": [
    "# print news summary paragraph\n",
    "news_parag = new_parag_div.get_text()\n",
    "news_parag"
   ]
  },
  {
   "cell_type": "code",
   "execution_count": 8,
   "metadata": {},
   "outputs": [],
   "source": [
    "## PART 2\n",
    "\n",
    "# set featured image url\n",
    "url = 'https://www.jpl.nasa.gov/spaceimages/?search=&category=Mars'\n",
    "browser.visit(url)"
   ]
  },
  {
   "cell_type": "code",
   "execution_count": 9,
   "metadata": {},
   "outputs": [],
   "source": [
    "# use splinter to find full image button and click on button\n",
    "full_image_button = browser.find_by_id('full_image')\n",
    "full_image_button.click()"
   ]
  },
  {
   "cell_type": "code",
   "execution_count": 10,
   "metadata": {},
   "outputs": [],
   "source": [
    "# use splinter to find more info button and click the button\n",
    "\n",
    "# since not all elements do not load at the same time, this step says \"keep checking for this element with this identifier and wait for so long before checking again\"\n",
    "browser.is_element_present_by_text('more info', wait_time=1)\n",
    "\n",
    "# since button does not have an id, now we have to find the \"link\" by using text \n",
    "more_info_button = browser.links.find_by_partial_text('more info')\n",
    "more_info_button.click()"
   ]
  },
  {
   "cell_type": "code",
   "execution_count": 11,
   "metadata": {},
   "outputs": [],
   "source": [
    "# BeautifulSoup time to get the image html\n",
    "html = browser.html\n",
    "soup = bs(html, 'html.parser')\n"
   ]
  },
  {
   "cell_type": "code",
   "execution_count": 12,
   "metadata": {},
   "outputs": [
    {
     "data": {
      "text/plain": [
       "'https://www.jpl.nasa.gov/spaceimages/images/largesize/PIA17550_hires.jpg'"
      ]
     },
     "execution_count": 12,
     "metadata": {},
     "output_type": "execute_result"
    }
   ],
   "source": [
    "# Trying to get image url, it was recommended to do a try/except for error handling... need to understand when to use this more.\n",
    "\n",
    "# this finds the relative image path\n",
    "relative_img_url = soup.find('figure', class_ =\"lede\").find('img', class_='main_image').get('src')\n",
    "    \n",
    "feature_image_url = f'https://www.jpl.nasa.gov{relative_img_url}'\n",
    "feature_image_url"
   ]
  },
  {
   "cell_type": "code",
   "execution_count": null,
   "metadata": {},
   "outputs": [],
   "source": [
    "# PART 3\n",
    "\n",
    "#Table Scrapping\n",
    "\n",
    "# set the url\n",
    "url = 'https://space-facts.com/mars/'"
   ]
  },
  {
   "cell_type": "code",
   "execution_count": null,
   "metadata": {},
   "outputs": [],
   "source": [
    "# scrape tables from the url and save to dataframes\n",
    "tables = pd.read_html(url)"
   ]
  },
  {
   "cell_type": "code",
   "execution_count": null,
   "metadata": {},
   "outputs": [],
   "source": [
    "type(tables)"
   ]
  },
  {
   "cell_type": "code",
   "execution_count": null,
   "metadata": {},
   "outputs": [],
   "source": [
    "# print first table\n",
    "tables[0]"
   ]
  },
  {
   "cell_type": "code",
   "execution_count": null,
   "metadata": {},
   "outputs": [],
   "source": [
    "# Save table to a pandas dataframe\n",
    "mars_stats_df = tables[0]"
   ]
  },
  {
   "cell_type": "code",
   "execution_count": null,
   "metadata": {},
   "outputs": [],
   "source": [
    "# add column headers\n",
    "mars_stats_df.columns=['Description', 'Mars']\n",
    "mars_stats_df"
   ]
  },
  {
   "cell_type": "code",
   "execution_count": null,
   "metadata": {},
   "outputs": [],
   "source": [
    "# set Description column as index\n",
    "# https://beenje.github.io/blog/posts/parsing-html-tables-in-python-with-pandas/\n",
    "mars_stats_df.set_index('Description', inplace = True)\n",
    "mars_stats_df"
   ]
  },
  {
   "cell_type": "code",
   "execution_count": null,
   "metadata": {},
   "outputs": [],
   "source": [
    "# convert dataframe to html table string\n",
    "mars_stats_df.to_html('mars_facts.html')"
   ]
  },
  {
   "cell_type": "code",
   "execution_count": 13,
   "metadata": {},
   "outputs": [],
   "source": [
    "## Part 4\n",
    "\n",
    "# set featured image url\n",
    "url = 'https://astrogeology.usgs.gov/search/results?q=hemisphere+enhanced&k1=target&v1=Mars'\n",
    "browser.visit(url)\n"
   ]
  },
  {
   "cell_type": "code",
   "execution_count": 14,
   "metadata": {},
   "outputs": [],
   "source": [
    "# CERBERUS (I'm sure there is going to be a way to loop this process, but I want to just get it working first)\n",
    "# use Splinter to click on Cerberus link\n",
    "cerberus_link = browser.links.find_by_partial_text('Cerberus Hemisphere Enhanced')\n",
    "cerberus_link.click()\n",
    "\n",
    "# BeautifulSoup time to get image link!\n",
    "html = browser.html\n",
    "soup = bs(html, 'html.parser')\n",
    "\n",
    "#get relative link\n",
    "relative_cerberus_url = soup.find('img', class_='wide-image').get('src')\n",
    "\n",
    "#append for full link\n",
    "cerberus_img_url = f'https://astrogeology.usgs.gov{relative_cerberus_url}'\n",
    "cerberus_img_url\n"
   ]
  },
  {
   "cell_type": "code",
   "execution_count": 20,
   "metadata": {},
   "outputs": [
    {
     "data": {
      "text/plain": [
       "'https://astrogeology.usgs.gov/cache/images/3778f7b43bbbc89d6e3cfabb3613ba93_schiaparelli_enhanced.tif_full.jpg'"
      ]
     },
     "execution_count": 20,
     "metadata": {},
     "output_type": "execute_result"
    }
   ],
   "source": [
    "# SCHIAPARELLI\n",
    "# click on Schiaparelli link\n",
    "schia_link = browser.links.find_by_partial_text('Schiaparelli Hemisphere Enhanced')\n",
    "schia_link.click()\n",
    "\n",
    "# BeautifulSoup time to get image link!\n",
    "html = browser.html\n",
    "soup = bs(html, 'html.parser')\n",
    "\n",
    "#get relative link\n",
    "relative_schia_url = soup.find('img', class_='wide-image').get('src')\n",
    "\n",
    "#append for full link\n",
    "schiaparelli_img_url = f'https://astrogeology.usgs.gov{relative_schia_url}'\n",
    "schiaparelli_img_url"
   ]
  },
  {
   "cell_type": "code",
   "execution_count": 21,
   "metadata": {},
   "outputs": [
    {
     "data": {
      "text/plain": [
       "'https://astrogeology.usgs.gov/cache/images/555e6403a6ddd7ba16ddb0e471cadcf7_syrtis_major_enhanced.tif_full.jpg'"
      ]
     },
     "execution_count": 21,
     "metadata": {},
     "output_type": "execute_result"
    }
   ],
   "source": [
    "# SYRTIS MAJOR\n",
    "# click on Syrtis Major link\n",
    "syrtis_link = browser.links.find_by_partial_text('Syrtis Major Hemisphere Enhanced')\n",
    "syrtis_link.click()\n",
    "\n",
    "# BeautifulSoup time to get image link!\n",
    "html = browser.html\n",
    "soup = bs(html, 'html.parser')\n",
    "\n",
    "#get relative link\n",
    "relative_syrtis_url = soup.find('img', class_='wide-image').get('src')\n",
    "\n",
    "#append for full link\n",
    "syrtis_img_url = f'https://astrogeology.usgs.gov{relative_syrtis_url}'\n",
    "syrtis_img_url"
   ]
  },
  {
   "cell_type": "code",
   "execution_count": 22,
   "metadata": {},
   "outputs": [
    {
     "data": {
      "text/plain": [
       "'https://astrogeology.usgs.gov/cache/images/b3c7c6c9138f57b4756be9b9c43e3a48_valles_marineris_enhanced.tif_full.jpg'"
      ]
     },
     "execution_count": 22,
     "metadata": {},
     "output_type": "execute_result"
    }
   ],
   "source": [
    "# VALLES MARINERIS\n",
    "# click on Valles Marineris link\n",
    "valles_link = browser.links.find_by_partial_text('Valles Marineris Hemisphere Enhanced')\n",
    "valles_link.click()\n",
    "\n",
    "# BeautifulSoup time to get image link!\n",
    "html = browser.html\n",
    "soup = bs(html, 'html.parser')\n",
    "\n",
    "#get relative link\n",
    "relative_valles_url = soup.find('img', class_='wide-image').get('src')\n",
    "\n",
    "#append for full link\n",
    "valles_img_url = f'https://astrogeology.usgs.gov{relative_valles_url}'\n",
    "valles_img_url"
   ]
  },
  {
   "cell_type": "code",
   "execution_count": 23,
   "metadata": {},
   "outputs": [],
   "source": [
    "# Hemisphere Images\n",
    "mars_hemis = [\n",
    "    {\"title\": \"Cerberus Hemisphere\", \"img_url\": cerberus_img_url},\n",
    "    {\"title\": \"Schiaparelli Hemisphere\", \"img_url\": schiaparelli_img_url},\n",
    "    {\"title\": \"Syrtis Major Hemisphere\", \"img_url\": syrtis_img_url},\n",
    "    {\"title\": \"Valles Marineris Hemisphere\", \"img_url\": valles_img_url}\n",
    "]\n",
    "\n"
   ]
  },
  {
   "cell_type": "code",
   "execution_count": 19,
   "metadata": {},
   "outputs": [
    {
     "data": {
      "text/plain": [
       "[{'title': 'Cerberus Hemisphere',\n",
       "  'img_url': 'https://astrogeology.usgs.gov/cache/images/f5e372a36edfa389625da6d0cc25d905_cerberus_enhanced.tif_full.jpg'},\n",
       " {'title': 'Schiaparelli Hemisphere',\n",
       "  'img_url': 'https://astrogeology.usgs.gov/cache/images/3778f7b43bbbc89d6e3cfabb3613ba93_schiaparelli_enhanced.tif_full.jpg'},\n",
       " {'title': 'Syrtis Major Hemisphere',\n",
       "  'img_url': 'https://astrogeology.usgs.gov/cache/images/555e6403a6ddd7ba16ddb0e471cadcf7_syrtis_major_enhanced.tif_full.jpg'},\n",
       " {'title': 'Valles Marineris Hemisphere',\n",
       "  'img_url': 'https://astrogeology.usgs.gov/cache/images/b3c7c6c9138f57b4756be9b9c43e3a48_valles_marineris_enhanced.tif_full.jpg'}]"
      ]
     },
     "execution_count": 19,
     "metadata": {},
     "output_type": "execute_result"
    }
   ],
   "source": [
    "#mars_hemis"
   ]
  },
  {
   "cell_type": "code",
   "execution_count": null,
   "metadata": {},
   "outputs": [],
   "source": []
  }
 ],
 "metadata": {
  "kernelspec": {
   "display_name": "Python [conda env:PythonData] *",
   "language": "python",
   "name": "conda-env-PythonData-py"
  },
  "language_info": {
   "codemirror_mode": {
    "name": "ipython",
    "version": 3
   },
   "file_extension": ".py",
   "mimetype": "text/x-python",
   "name": "python",
   "nbconvert_exporter": "python",
   "pygments_lexer": "ipython3",
   "version": "3.6.10"
  }
 },
 "nbformat": 4,
 "nbformat_minor": 4
}
